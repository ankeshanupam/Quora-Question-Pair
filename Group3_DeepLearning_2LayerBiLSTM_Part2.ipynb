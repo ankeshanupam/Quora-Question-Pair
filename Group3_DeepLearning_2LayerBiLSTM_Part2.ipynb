{
 "cells": [
  {
   "cell_type": "code",
   "execution_count": 18,
   "metadata": {
    "colab": {},
    "colab_type": "code",
    "executionInfo": {
     "elapsed": 4041,
     "status": "ok",
     "timestamp": 1597125822520,
     "user": {
      "displayName": "RAUSHAN Raj",
      "photoUrl": "https://lh3.googleusercontent.com/a-/AOh14Ggzx2UtLRgfAA9F990pxIS41WDo9WctnzL8mXg3LQ=s64",
      "userId": "17758832831689054457"
     },
     "user_tz": -330
    },
    "id": "rMODFs5ooxyj"
   },
   "outputs": [],
   "source": [
    "from keras.preprocessing import sequence\n",
    "from keras.preprocessing import text\n",
    "import numpy as np\n",
    "from keras.models import Sequential\n",
    "from keras.layers import Dense, Dropout, Activation\n",
    "from keras.layers import Embedding, LSTM, Bidirectional\n",
    "from keras.layers import Conv1D, Flatten\n",
    "from keras.preprocessing import text\n",
    "from keras.models import Sequential,Model\n",
    "from keras.layers import Dense ,Activation,MaxPool1D,Conv1D,Flatten,Dropout,Activation,Dropout,Input,Lambda,concatenate\n",
    "from keras.utils import np_utils\n",
    "from nltk.corpus import stopwords\n",
    "from nltk.tokenize import RegexpTokenizer\n",
    "from nltk.stem.porter import PorterStemmer\n",
    "import nltk\n",
    "import csv\n",
    "import pandas as pd\n",
    "import tensorflow as tf \n",
    "\n",
    "from keras.preprocessing import text as keras_text, sequence as keras_seq"
   ]
  },
  {
   "cell_type": "code",
   "execution_count": 2,
   "metadata": {
    "colab": {
     "base_uri": "https://localhost:8080/",
     "height": 289
    },
    "colab_type": "code",
    "executionInfo": {
     "elapsed": 6591,
     "status": "ok",
     "timestamp": 1597125825112,
     "user": {
      "displayName": "RAUSHAN Raj",
      "photoUrl": "https://lh3.googleusercontent.com/a-/AOh14Ggzx2UtLRgfAA9F990pxIS41WDo9WctnzL8mXg3LQ=s64",
      "userId": "17758832831689054457"
     },
     "user_tz": -330
    },
    "id": "6GpBV9JTwUz1",
    "outputId": "2f5bc3b9-9e06-4185-b4ad-f28030fae62d"
   },
   "outputs": [
    {
     "data": {
      "text/html": [
       "<div>\n",
       "<style scoped>\n",
       "    .dataframe tbody tr th:only-of-type {\n",
       "        vertical-align: middle;\n",
       "    }\n",
       "\n",
       "    .dataframe tbody tr th {\n",
       "        vertical-align: top;\n",
       "    }\n",
       "\n",
       "    .dataframe thead th {\n",
       "        text-align: right;\n",
       "    }\n",
       "</style>\n",
       "<table border=\"1\" class=\"dataframe\">\n",
       "  <thead>\n",
       "    <tr style=\"text-align: right;\">\n",
       "      <th></th>\n",
       "      <th>id</th>\n",
       "      <th>qid1</th>\n",
       "      <th>qid2</th>\n",
       "      <th>question1</th>\n",
       "      <th>question2</th>\n",
       "      <th>is_duplicate</th>\n",
       "    </tr>\n",
       "  </thead>\n",
       "  <tbody>\n",
       "    <tr>\n",
       "      <th>0</th>\n",
       "      <td>0</td>\n",
       "      <td>1</td>\n",
       "      <td>2</td>\n",
       "      <td>What is the step by step guide to invest in share market in india?</td>\n",
       "      <td>What is the step by step guide to invest in share market?</td>\n",
       "      <td>0</td>\n",
       "    </tr>\n",
       "    <tr>\n",
       "      <th>1</th>\n",
       "      <td>1</td>\n",
       "      <td>3</td>\n",
       "      <td>4</td>\n",
       "      <td>What is the story of Kohinoor (Koh-i-Noor) Diamond?</td>\n",
       "      <td>What would happen if the Indian government stole the Kohinoor (Koh-i-Noor) d...</td>\n",
       "      <td>0</td>\n",
       "    </tr>\n",
       "    <tr>\n",
       "      <th>2</th>\n",
       "      <td>2</td>\n",
       "      <td>5</td>\n",
       "      <td>6</td>\n",
       "      <td>How can I increase the speed of my internet connection while using a VPN?</td>\n",
       "      <td>How can Internet speed be increased by hacking through DNS?</td>\n",
       "      <td>0</td>\n",
       "    </tr>\n",
       "    <tr>\n",
       "      <th>3</th>\n",
       "      <td>3</td>\n",
       "      <td>7</td>\n",
       "      <td>8</td>\n",
       "      <td>Why am I mentally very lonely? How can I solve it?</td>\n",
       "      <td>Find the remainder when [math]23^{24}[/math] is divided by 24,23?</td>\n",
       "      <td>0</td>\n",
       "    </tr>\n",
       "    <tr>\n",
       "      <th>4</th>\n",
       "      <td>4</td>\n",
       "      <td>9</td>\n",
       "      <td>10</td>\n",
       "      <td>Which one dissolve in water quikly sugar, salt, methane and carbon di oxide?</td>\n",
       "      <td>Which fish would survive in salt water?</td>\n",
       "      <td>0</td>\n",
       "    </tr>\n",
       "  </tbody>\n",
       "</table>\n",
       "</div>"
      ],
      "text/plain": [
       "   id  qid1  qid2  \\\n",
       "0   0     1     2   \n",
       "1   1     3     4   \n",
       "2   2     5     6   \n",
       "3   3     7     8   \n",
       "4   4     9    10   \n",
       "\n",
       "                                                                      question1  \\\n",
       "0            What is the step by step guide to invest in share market in india?   \n",
       "1                           What is the story of Kohinoor (Koh-i-Noor) Diamond?   \n",
       "2     How can I increase the speed of my internet connection while using a VPN?   \n",
       "3                            Why am I mentally very lonely? How can I solve it?   \n",
       "4  Which one dissolve in water quikly sugar, salt, methane and carbon di oxide?   \n",
       "\n",
       "                                                                         question2  \\\n",
       "0                        What is the step by step guide to invest in share market?   \n",
       "1  What would happen if the Indian government stole the Kohinoor (Koh-i-Noor) d...   \n",
       "2                      How can Internet speed be increased by hacking through DNS?   \n",
       "3                Find the remainder when [math]23^{24}[/math] is divided by 24,23?   \n",
       "4                                          Which fish would survive in salt water?   \n",
       "\n",
       "   is_duplicate  \n",
       "0             0  \n",
       "1             0  \n",
       "2             0  \n",
       "3             0  \n",
       "4             0  "
      ]
     },
     "execution_count": 2,
     "metadata": {},
     "output_type": "execute_result"
    }
   ],
   "source": [
    "data = pd.read_csv('train_data.csv')\n",
    "pd.set_option('display.max_colwidth',80)\n",
    "data.head()"
   ]
  },
  {
   "cell_type": "markdown",
   "metadata": {
    "colab_type": "text",
    "id": "tAHln35u4yGa"
   },
   "source": [
    "# Checking Output class label difference"
   ]
  },
  {
   "cell_type": "code",
   "execution_count": 3,
   "metadata": {
    "colab": {
     "base_uri": "https://localhost:8080/",
     "height": 69
    },
    "colab_type": "code",
    "executionInfo": {
     "elapsed": 6576,
     "status": "ok",
     "timestamp": 1597125825113,
     "user": {
      "displayName": "RAUSHAN Raj",
      "photoUrl": "https://lh3.googleusercontent.com/a-/AOh14Ggzx2UtLRgfAA9F990pxIS41WDo9WctnzL8mXg3LQ=s64",
      "userId": "17758832831689054457"
     },
     "user_tz": -330
    },
    "id": "ApcANKJ0JNwI",
    "outputId": "c28fa057-318d-4ccb-bd10-429b6108c4f2"
   },
   "outputs": [
    {
     "data": {
      "text/plain": [
       "0    255027\n",
       "1    149263\n",
       "Name: is_duplicate, dtype: int64"
      ]
     },
     "execution_count": 3,
     "metadata": {},
     "output_type": "execute_result"
    }
   ],
   "source": [
    "data['is_duplicate'].value_counts()"
   ]
  },
  {
   "cell_type": "code",
   "execution_count": 4,
   "metadata": {
    "colab": {
     "base_uri": "https://localhost:8080/",
     "height": 297
    },
    "colab_type": "code",
    "executionInfo": {
     "elapsed": 6564,
     "status": "ok",
     "timestamp": 1597125825116,
     "user": {
      "displayName": "RAUSHAN Raj",
      "photoUrl": "https://lh3.googleusercontent.com/a-/AOh14Ggzx2UtLRgfAA9F990pxIS41WDo9WctnzL8mXg3LQ=s64",
      "userId": "17758832831689054457"
     },
     "user_tz": -330
    },
    "id": "t67T57HAofNv",
    "outputId": "6f2c0c82-15e0-4aa9-d21c-087511b1b94b"
   },
   "outputs": [
    {
     "data": {
      "text/plain": [
       "<AxesSubplot: >"
      ]
     },
     "execution_count": 4,
     "metadata": {},
     "output_type": "execute_result"
    },
    {
     "data": {
      "image/png": "[encoded data removed]",
      "text/plain": [
       "<Figure size 640x480 with 1 Axes>"
      ]
     },
     "metadata": {},
     "output_type": "display_data"
    }
   ],
   "source": [
    "import matplotlib.pyplot as plt\n",
    "import pandas as pd\n",
    "data['is_duplicate'].value_counts().plot(kind='bar', color='green')"
   ]
  },
  {
   "cell_type": "code",
   "execution_count": 5,
   "metadata": {
    "colab": {
     "base_uri": "https://localhost:8080/",
     "height": 35
    },
    "colab_type": "code",
    "executionInfo": {
     "elapsed": 6553,
     "status": "ok",
     "timestamp": 1597125825118,
     "user": {
      "displayName": "RAUSHAN Raj",
      "photoUrl": "https://lh3.googleusercontent.com/a-/AOh14Ggzx2UtLRgfAA9F990pxIS41WDo9WctnzL8mXg3LQ=s64",
      "userId": "17758832831689054457"
     },
     "user_tz": -330
    },
    "id": "LkEuEKzCwXID",
    "outputId": "639a679e-1910-404b-cb20-786402e172e6"
   },
   "outputs": [
    {
     "data": {
      "text/plain": [
       "(404290, 6)"
      ]
     },
     "execution_count": 5,
     "metadata": {},
     "output_type": "execute_result"
    }
   ],
   "source": [
    "data.shape"
   ]
  },
  {
   "cell_type": "code",
   "execution_count": 6,
   "metadata": {
    "colab": {
     "base_uri": "https://localhost:8080/",
     "height": 191
    },
    "colab_type": "code",
    "executionInfo": {
     "elapsed": 6543,
     "status": "ok",
     "timestamp": 1597125825120,
     "user": {
      "displayName": "RAUSHAN Raj",
      "photoUrl": "https://lh3.googleusercontent.com/a-/AOh14Ggzx2UtLRgfAA9F990pxIS41WDo9WctnzL8mXg3LQ=s64",
      "userId": "17758832831689054457"
     },
     "user_tz": -330
    },
    "id": "T-YijuPXwbys",
    "outputId": "3c5f2ef1-002e-413d-dd48-6e95420cfc8e"
   },
   "outputs": [
    {
     "name": "stdout",
     "output_type": "stream",
     "text": [
      "id               int64\n",
      "qid1             int64\n",
      "qid2             int64\n",
      "question1       object\n",
      "question2       object\n",
      "is_duplicate     int64\n",
      "dtype: object\n",
      "object\n",
      "object\n"
     ]
    },
    {
     "data": {
      "text/plain": [
       "pandas.core.series.Series"
      ]
     },
     "execution_count": 6,
     "metadata": {},
     "output_type": "execute_result"
    }
   ],
   "source": [
    "print(data.dtypes)\n",
    "print(data['question1'].dtypes)\n",
    "print(data['question2'].dtypes)\n",
    "type(data['question1'])"
   ]
  },
  {
   "cell_type": "markdown",
   "metadata": {
    "colab_type": "text",
    "id": "ny-gfDxHwhBX"
   },
   "source": [
    "# Setting target or labelfor each input"
   ]
  },
  {
   "cell_type": "code",
   "execution_count": 7,
   "metadata": {
    "colab": {},
    "colab_type": "code",
    "executionInfo": {
     "elapsed": 6538,
     "status": "ok",
     "timestamp": 1597125825121,
     "user": {
      "displayName": "RAUSHAN Raj",
      "photoUrl": "https://lh3.googleusercontent.com/a-/AOh14Ggzx2UtLRgfAA9F990pxIS41WDo9WctnzL8mXg3LQ=s64",
      "userId": "17758832831689054457"
     },
     "user_tz": -330
    },
    "id": "16Uwc2RIwkN2"
   },
   "outputs": [],
   "source": [
    "label_oneDimension=data['is_duplicate']"
   ]
  },
  {
   "cell_type": "code",
   "execution_count": 8,
   "metadata": {
    "colab": {
     "base_uri": "https://localhost:8080/",
     "height": 69
    },
    "colab_type": "code",
    "executionInfo": {
     "elapsed": 6526,
     "status": "ok",
     "timestamp": 1597125825122,
     "user": {
      "displayName": "RAUSHAN Raj",
      "photoUrl": "https://lh3.googleusercontent.com/a-/AOh14Ggzx2UtLRgfAA9F990pxIS41WDo9WctnzL8mXg3LQ=s64",
      "userId": "17758832831689054457"
     },
     "user_tz": -330
    },
    "id": "T_NF2tfUwnWw",
    "outputId": "266464a9-9fa1-4a65-9bfd-0565bdd05315"
   },
   "outputs": [
    {
     "data": {
      "text/plain": [
       "0    0\n",
       "1    0\n",
       "Name: is_duplicate, dtype: int64"
      ]
     },
     "execution_count": 8,
     "metadata": {},
     "output_type": "execute_result"
    }
   ],
   "source": [
    "label_oneDimension.head(2)"
   ]
  },
  {
   "cell_type": "code",
   "execution_count": 9,
   "metadata": {
    "colab": {},
    "colab_type": "code",
    "executionInfo": {
     "elapsed": 6522,
     "status": "ok",
     "timestamp": 1597125825123,
     "user": {
      "displayName": "RAUSHAN Raj",
      "photoUrl": "https://lh3.googleusercontent.com/a-/AOh14Ggzx2UtLRgfAA9F990pxIS41WDo9WctnzL8mXg3LQ=s64",
      "userId": "17758832831689054457"
     },
     "user_tz": -330
    },
    "id": "OFQS_6Cxwu0W"
   },
   "outputs": [],
   "source": [
    "import numpy as np\n",
    "from keras.utils.np_utils import to_categorical\n",
    "label_twoDimension = to_categorical(data['is_duplicate'], num_classes=2)"
   ]
  },
  {
   "cell_type": "code",
   "execution_count": 10,
   "metadata": {
    "colab": {
     "base_uri": "https://localhost:8080/",
     "height": 35
    },
    "colab_type": "code",
    "executionInfo": {
     "elapsed": 6511,
     "status": "ok",
     "timestamp": 1597125825124,
     "user": {
      "displayName": "RAUSHAN Raj",
      "photoUrl": "https://lh3.googleusercontent.com/a-/AOh14Ggzx2UtLRgfAA9F990pxIS41WDo9WctnzL8mXg3LQ=s64",
      "userId": "17758832831689054457"
     },
     "user_tz": -330
    },
    "id": "0I7n9XS0wwz8",
    "outputId": "4cb2b154-d361-4ce8-ee1c-15f86bb86065"
   },
   "outputs": [
    {
     "data": {
      "text/plain": [
       "array([[1., 0.]], dtype=float32)"
      ]
     },
     "execution_count": 10,
     "metadata": {},
     "output_type": "execute_result"
    }
   ],
   "source": [
    "label_twoDimension[0:1]"
   ]
  },
  {
   "cell_type": "code",
   "execution_count": 11,
   "metadata": {
    "colab": {
     "base_uri": "https://localhost:8080/",
     "height": 121
    },
    "colab_type": "code",
    "executionInfo": {
     "elapsed": 6500,
     "status": "ok",
     "timestamp": 1597125825124,
     "user": {
      "displayName": "RAUSHAN Raj",
      "photoUrl": "https://lh3.googleusercontent.com/a-/AOh14Ggzx2UtLRgfAA9F990pxIS41WDo9WctnzL8mXg3LQ=s64",
      "userId": "17758832831689054457"
     },
     "user_tz": -330
    },
    "id": "_nX1fEIQwypY",
    "outputId": "b373fbb7-472f-4307-fd6c-6578bf25b95e"
   },
   "outputs": [
    {
     "name": "stdout",
     "output_type": "stream",
     "text": [
      "0              What is the step by step guide to invest in share market in india?\n",
      "1                             What is the story of Kohinoor (Koh-i-Noor) Diamond?\n",
      "2       How can I increase the speed of my internet connection while using a VPN?\n",
      "3                              Why am I mentally very lonely? How can I solve it?\n",
      "4    Which one dissolve in water quikly sugar, salt, methane and carbon di oxide?\n",
      "Name: question1, dtype: object\n"
     ]
    }
   ],
   "source": [
    "question_one=data['question1'].astype(str)\n",
    "print(question_one.head())"
   ]
  },
  {
   "cell_type": "code",
   "execution_count": 12,
   "metadata": {
    "colab": {
     "base_uri": "https://localhost:8080/",
     "height": 121
    },
    "colab_type": "code",
    "executionInfo": {
     "elapsed": 6489,
     "status": "ok",
     "timestamp": 1597125825125,
     "user": {
      "displayName": "RAUSHAN Raj",
      "photoUrl": "https://lh3.googleusercontent.com/a-/AOh14Ggzx2UtLRgfAA9F990pxIS41WDo9WctnzL8mXg3LQ=s64",
      "userId": "17758832831689054457"
     },
     "user_tz": -330
    },
    "id": "A3twBRZFw0lJ",
    "outputId": "54162244-65f0-4798-ea53-e530f9a43100"
   },
   "outputs": [
    {
     "name": "stdout",
     "output_type": "stream",
     "text": [
      "0                          What is the step by step guide to invest in share market?\n",
      "1    What would happen if the Indian government stole the Kohinoor (Koh-i-Noor) d...\n",
      "2                        How can Internet speed be increased by hacking through DNS?\n",
      "3                  Find the remainder when [math]23^{24}[/math] is divided by 24,23?\n",
      "4                                            Which fish would survive in salt water?\n",
      "Name: question2, dtype: object\n"
     ]
    }
   ],
   "source": [
    "question_two=data['question2'].astype(str)\n",
    "print(question_two.head())"
   ]
  },
  {
   "cell_type": "markdown",
   "metadata": {
    "colab_type": "text",
    "id": "9jXOglamyASS"
   },
   "source": [
    "# Fitting text on a single tokenized object"
   ]
  },
  {
   "cell_type": "code",
   "execution_count": 13,
   "metadata": {
    "colab": {},
    "colab_type": "code",
    "executionInfo": {
     "elapsed": 15760,
     "status": "ok",
     "timestamp": 1597125834450,
     "user": {
      "displayName": "RAUSHAN Raj",
      "photoUrl": "https://lh3.googleusercontent.com/a-/AOh14Ggzx2UtLRgfAA9F990pxIS41WDo9WctnzL8mXg3LQ=s64",
      "userId": "17758832831689054457"
     },
     "user_tz": -330
    },
    "id": "U5wo2IAkyBcw"
   },
   "outputs": [],
   "source": [
    "from keras.preprocessing.text import Tokenizer\n",
    "tok_all = Tokenizer(filters='!\"#$%&\\'()*+,-./:;<=>?@[\\\\]^_`{|}~', lower=True, char_level = False)\n",
    "tok_all.fit_on_texts(question_one+question_two)"
   ]
  },
  {
   "cell_type": "code",
   "execution_count": 14,
   "metadata": {
    "colab": {
     "base_uri": "https://localhost:8080/",
     "height": 35
    },
    "colab_type": "code",
    "executionInfo": {
     "elapsed": 15748,
     "status": "ok",
     "timestamp": 1597125834452,
     "user": {
      "displayName": "RAUSHAN Raj",
      "photoUrl": "https://lh3.googleusercontent.com/a-/AOh14Ggzx2UtLRgfAA9F990pxIS41WDo9WctnzL8mXg3LQ=s64",
      "userId": "17758832831689054457"
     },
     "user_tz": -330
    },
    "id": "CJsrbVKVyFkj",
    "outputId": "a33bd6c3-e4b0-4bce-a9a9-22fd12d01db4"
   },
   "outputs": [
    {
     "name": "stdout",
     "output_type": "stream",
     "text": [
      "89983\n"
     ]
    }
   ],
   "source": [
    "vocabulary_all=len(tok_all.word_counts)\n",
    "print(vocabulary_all)"
   ]
  },
  {
   "cell_type": "markdown",
   "metadata": {
    "colab_type": "text",
    "id": "EFQoKV-byI_U"
   },
   "source": [
    "# Train data Sequencing and Encoding"
   ]
  },
  {
   "cell_type": "code",
   "execution_count": 15,
   "metadata": {
    "colab": {
     "base_uri": "https://localhost:8080/",
     "height": 52
    },
    "colab_type": "code",
    "executionInfo": {
     "elapsed": 21329,
     "status": "ok",
     "timestamp": 1597125840045,
     "user": {
      "displayName": "RAUSHAN Raj",
      "photoUrl": "https://lh3.googleusercontent.com/a-/AOh14Ggzx2UtLRgfAA9F990pxIS41WDo9WctnzL8mXg3LQ=s64",
      "userId": "17758832831689054457"
     },
     "user_tz": -330
    },
    "id": "VSFNtgrNyLzA",
    "outputId": "639e1af4-dad8-4796-d9ba-a9f969bdbb6f"
   },
   "outputs": [
    {
     "name": "stdout",
     "output_type": "stream",
     "text": [
      "What is the step by step guide to invest in share market in india?\n"
     ]
    },
    {
     "data": {
      "text/plain": [
       "[2, 3, 1, 1222, 59, 1222, 2566, 7, 579, 8, 763, 384, 8, 36]"
      ]
     },
     "execution_count": 15,
     "metadata": {},
     "output_type": "execute_result"
    }
   ],
   "source": [
    "#Encoding question 1\n",
    "encoded_q1=tok_all.texts_to_sequences(question_one)\n",
    "print(question_one[0])\n",
    "encoded_q1[0]"
   ]
  },
  {
   "cell_type": "code",
   "execution_count": 16,
   "metadata": {
    "colab": {
     "base_uri": "https://localhost:8080/",
     "height": 52
    },
    "colab_type": "code",
    "executionInfo": {
     "elapsed": 26951,
     "status": "ok",
     "timestamp": 1597125845678,
     "user": {
      "displayName": "RAUSHAN Raj",
      "photoUrl": "https://lh3.googleusercontent.com/a-/AOh14Ggzx2UtLRgfAA9F990pxIS41WDo9WctnzL8mXg3LQ=s64",
      "userId": "17758832831689054457"
     },
     "user_tz": -330
    },
    "id": "7ejbm6CkyRsL",
    "outputId": "047307a0-1275-4dc0-c425-bb78a0a61122"
   },
   "outputs": [
    {
     "name": "stdout",
     "output_type": "stream",
     "text": [
      "What is the step by step guide to invest in share market?\n"
     ]
    },
    {
     "data": {
      "text/plain": [
       "[2, 3, 1, 1222, 59, 1222, 2566, 7, 579, 8, 763, 384]"
      ]
     },
     "execution_count": 16,
     "metadata": {},
     "output_type": "execute_result"
    }
   ],
   "source": [
    "#Encoding question 2\n",
    "encoded_q2=tok_all.texts_to_sequences(question_two)\n",
    "print(question_two[0])\n",
    "encoded_q2[0]"
   ]
  },
  {
   "cell_type": "markdown",
   "metadata": {
    "colab_type": "text",
    "id": "qM7MqNJQyUQx"
   },
   "source": [
    "# Pre-Padding on Train data"
   ]
  },
  {
   "cell_type": "code",
   "execution_count": 19,
   "metadata": {
    "colab": {},
    "colab_type": "code",
    "executionInfo": {
     "elapsed": 28496,
     "status": "ok",
     "timestamp": 1597125847227,
     "user": {
      "displayName": "RAUSHAN Raj",
      "photoUrl": "https://lh3.googleusercontent.com/a-/AOh14Ggzx2UtLRgfAA9F990pxIS41WDo9WctnzL8mXg3LQ=s64",
      "userId": "17758832831689054457"
     },
     "user_tz": -330
    },
    "id": "XNGpDxy1yVPk"
   },
   "outputs": [],
   "source": [
    "#####Padding encoded sequence of words\n",
    "from keras.preprocessing import sequence\n",
    "max_length=100\n",
    "padded_docs_q1 = tf.keras.utils.pad_sequences(encoded_q1, maxlen=max_length, padding='pre')"
   ]
  },
  {
   "cell_type": "code",
   "execution_count": 20,
   "metadata": {
    "colab": {},
    "colab_type": "code",
    "executionInfo": {
     "elapsed": 30262,
     "status": "ok",
     "timestamp": 1597125848999,
     "user": {
      "displayName": "RAUSHAN Raj",
      "photoUrl": "https://lh3.googleusercontent.com/a-/AOh14Ggzx2UtLRgfAA9F990pxIS41WDo9WctnzL8mXg3LQ=s64",
      "userId": "17758832831689054457"
     },
     "user_tz": -330
    },
    "id": "BVUtrh2SyahM"
   },
   "outputs": [],
   "source": [
    "#####Padding encoded sequence of words\n",
    "from keras.preprocessing import sequence\n",
    "max_length=100\n",
    "padded_docs_q2 = tf.keras.utils.pad_sequences(encoded_q2, maxlen=max_length, padding='pre')"
   ]
  },
  {
   "cell_type": "markdown",
   "metadata": {
    "colab_type": "text",
    "id": "uV9EkGIRzDb4"
   },
   "source": [
    "# Reading Embedding Vector from Glove"
   ]
  },
  {
   "cell_type": "code",
   "execution_count": 21,
   "metadata": {
    "colab": {},
    "colab_type": "code",
    "executionInfo": {
     "elapsed": 30213,
     "status": "ok",
     "timestamp": 1597125849004,
     "user": {
      "displayName": "RAUSHAN Raj",
      "photoUrl": "https://lh3.googleusercontent.com/a-/AOh14Ggzx2UtLRgfAA9F990pxIS41WDo9WctnzL8mXg3LQ=s64",
      "userId": "17758832831689054457"
     },
     "user_tz": -330
    },
    "id": "1FEHSE6szGZz"
   },
   "outputs": [],
   "source": [
    "import os\n",
    "import numpy as np"
   ]
  },
  {
   "cell_type": "code",
   "execution_count": 22,
   "metadata": {
    "colab": {
     "base_uri": "https://localhost:8080/",
     "height": 35
    },
    "colab_type": "code",
    "executionInfo": {
     "elapsed": 66602,
     "status": "ok",
     "timestamp": 1597125885406,
     "user": {
      "displayName": "RAUSHAN Raj",
      "photoUrl": "https://lh3.googleusercontent.com/a-/AOh14Ggzx2UtLRgfAA9F990pxIS41WDo9WctnzL8mXg3LQ=s64",
      "userId": "17758832831689054457"
     },
     "user_tz": -330
    },
    "id": "pcvdJ9kxzK4q",
    "outputId": "ad85ba4f-97dd-4f2d-d571-3aa9920589b1"
   },
   "outputs": [
    {
     "name": "stdout",
     "output_type": "stream",
     "text": [
      "Loaded 1917494 word vectors.\n"
     ]
    }
   ],
   "source": [
    "File= r\"C:\\Users\\ankesh.anupam\\OneDrive - Sval Energi\\Desktop\\UIS\\Data_Mining_Deep_Learning\\Project\\GloVe\\glove.42B.300d.txt\"\n",
    "embeddings_index = {}\n",
    "f = open(File, 'r', encoding=\"utf8\")\n",
    "for line in f:\n",
    "    values = line.split()\n",
    "    word = values[0]\n",
    "    coefs = np.asarray(values[1:], dtype='float32')\n",
    "    embeddings_index[word] = coefs\n",
    "f.close()\n",
    "print('Loaded %s word vectors.' % len(embeddings_index))"
   ]
  },
  {
   "cell_type": "code",
   "execution_count": 23,
   "metadata": {
    "colab": {},
    "colab_type": "code",
    "executionInfo": {
     "elapsed": 66599,
     "status": "ok",
     "timestamp": 1597125885409,
     "user": {
      "displayName": "RAUSHAN Raj",
      "photoUrl": "https://lh3.googleusercontent.com/a-/AOh14Ggzx2UtLRgfAA9F990pxIS41WDo9WctnzL8mXg3LQ=s64",
      "userId": "17758832831689054457"
     },
     "user_tz": -330
    },
    "id": "1TQgSc8VzNEG"
   },
   "outputs": [],
   "source": [
    "#create embedding matrix\n",
    "\n",
    "embedding_matrix = np.zeros((vocabulary_all+1, 300))\n",
    "for word, i in tok_all.word_index.items():\n",
    "\tembedding_vector = embeddings_index.get(word)\n",
    "\tif embedding_vector is not None:\n",
    "\t\t# words not found in embedding index will be all-zeros.\n",
    "\t\tembedding_matrix[i] = embedding_vector"
   ]
  },
  {
   "cell_type": "markdown",
   "metadata": {
    "colab_type": "text",
    "id": "bMan_NSZzPpL"
   },
   "source": [
    "# Defining Input Shape for Model"
   ]
  },
  {
   "cell_type": "code",
   "execution_count": 24,
   "metadata": {
    "colab": {
     "base_uri": "https://localhost:8080/",
     "height": 35
    },
    "colab_type": "code",
    "executionInfo": {
     "elapsed": 66590,
     "status": "ok",
     "timestamp": 1597125885411,
     "user": {
      "displayName": "RAUSHAN Raj",
      "photoUrl": "https://lh3.googleusercontent.com/a-/AOh14Ggzx2UtLRgfAA9F990pxIS41WDo9WctnzL8mXg3LQ=s64",
      "userId": "17758832831689054457"
     },
     "user_tz": -330
    },
    "id": "cz0I-2fuzQ1h",
    "outputId": "e70dfe1b-1afe-46f0-98d4-514713a6545e"
   },
   "outputs": [
    {
     "data": {
      "text/plain": [
       "TensorShape([None, 100])"
      ]
     },
     "execution_count": 24,
     "metadata": {},
     "output_type": "execute_result"
    }
   ],
   "source": [
    "Question1_shape= Input(shape=[max_length])\n",
    "Question1_shape.shape"
   ]
  },
  {
   "cell_type": "code",
   "execution_count": 25,
   "metadata": {
    "colab": {
     "base_uri": "https://localhost:8080/",
     "height": 35
    },
    "colab_type": "code",
    "executionInfo": {
     "elapsed": 66579,
     "status": "ok",
     "timestamp": 1597125885412,
     "user": {
      "displayName": "RAUSHAN Raj",
      "photoUrl": "https://lh3.googleusercontent.com/a-/AOh14Ggzx2UtLRgfAA9F990pxIS41WDo9WctnzL8mXg3LQ=s64",
      "userId": "17758832831689054457"
     },
     "user_tz": -330
    },
    "id": "YVqberbFzU-q",
    "outputId": "edb7b4ff-7042-4c8c-903f-2da7a3e53c1a"
   },
   "outputs": [
    {
     "data": {
      "text/plain": [
       "TensorShape([None, 100])"
      ]
     },
     "execution_count": 25,
     "metadata": {},
     "output_type": "execute_result"
    }
   ],
   "source": [
    "Question2_shape= Input(shape=[max_length])\n",
    "Question2_shape.shape"
   ]
  },
  {
   "cell_type": "markdown",
   "metadata": {
    "colab_type": "text",
    "id": "TK2Gkhd1zYCe"
   },
   "source": [
    "# Bi-lstm Network"
   ]
  },
  {
   "cell_type": "code",
   "execution_count": 26,
   "metadata": {
    "colab": {},
    "colab_type": "code",
    "executionInfo": {
     "elapsed": 68785,
     "status": "ok",
     "timestamp": 1597125887624,
     "user": {
      "displayName": "RAUSHAN Raj",
      "photoUrl": "https://lh3.googleusercontent.com/a-/AOh14Ggzx2UtLRgfAA9F990pxIS41WDo9WctnzL8mXg3LQ=s64",
      "userId": "17758832831689054457"
     },
     "user_tz": -330
    },
    "id": "eEc6Ge6tzZcb"
   },
   "outputs": [],
   "source": [
    "Bi_lstm2_network = Sequential()\n",
    "\n",
    "# Adding Embedding layer\n",
    "Bi_lstm2_network.add(Embedding(vocabulary_all+1,300,weights=[embedding_matrix], input_length=max_length, trainable=False))          \n",
    "\n",
    "# Adding 2 Bi-Lstm layers\n",
    "Bi_lstm2_network.add(Bidirectional(LSTM(32, return_sequences=True)))\n",
    "Bi_lstm2_network.add(Dropout(0.2))\n",
    "\n",
    "Bi_lstm2_network.add(Bidirectional(LSTM(64, return_sequences=False))) \n",
    "Bi_lstm2_network.add(Dropout(0.2))\n",
    "\n",
    "\n",
    "# Adding Dense layer\n",
    "Bi_lstm2_network.add(Dense(128,activation=\"linear\"))\n",
    "Bi_lstm2_network.add(Dropout(0.3))\n",
    "                       \n",
    "              "
   ]
  },
  {
   "cell_type": "markdown",
   "metadata": {
    "colab_type": "text",
    "id": "s2DcKEy8zuDf"
   },
   "source": [
    "# Printing Model summary"
   ]
  },
  {
   "cell_type": "code",
   "execution_count": 27,
   "metadata": {
    "colab": {
     "base_uri": "https://localhost:8080/",
     "height": 399
    },
    "colab_type": "code",
    "executionInfo": {
     "elapsed": 68776,
     "status": "ok",
     "timestamp": 1597125887626,
     "user": {
      "displayName": "RAUSHAN Raj",
      "photoUrl": "https://lh3.googleusercontent.com/a-/AOh14Ggzx2UtLRgfAA9F990pxIS41WDo9WctnzL8mXg3LQ=s64",
      "userId": "17758832831689054457"
     },
     "user_tz": -330
    },
    "id": "1k5kxyYzzvfv",
    "outputId": "1c3f2e26-e3ae-47ee-fd25-27dbab5d85d3"
   },
   "outputs": [
    {
     "name": "stdout",
     "output_type": "stream",
     "text": [
      "Model: \"sequential\"\n",
      "_________________________________________________________________\n",
      " Layer (type)                Output Shape              Param #   \n",
      "=================================================================\n",
      " embedding (Embedding)       (None, 100, 300)          26995200  \n",
      "                                                                 \n",
      " bidirectional (Bidirectiona  (None, 100, 64)          85248     \n",
      " l)                                                              \n",
      "                                                                 \n",
      " dropout (Dropout)           (None, 100, 64)           0         \n",
      "                                                                 \n",
      " bidirectional_1 (Bidirectio  (None, 128)              66048     \n",
      " nal)                                                            \n",
      "                                                                 \n",
      " dropout_1 (Dropout)         (None, 128)               0         \n",
      "                                                                 \n",
      " dense (Dense)               (None, 128)               16512     \n",
      "                                                                 \n",
      " dropout_2 (Dropout)         (None, 128)               0         \n",
      "                                                                 \n",
      "=================================================================\n",
      "Total params: 27,163,008\n",
      "Trainable params: 167,808\n",
      "Non-trainable params: 26,995,200\n",
      "_________________________________________________________________\n"
     ]
    }
   ],
   "source": [
    "Bi_lstm2_network.summary()"
   ]
  },
  {
   "cell_type": "code",
   "execution_count": 28,
   "metadata": {
    "colab": {
     "base_uri": "https://localhost:8080/",
     "height": 865
    },
    "colab_type": "code",
    "executionInfo": {
     "elapsed": 68768,
     "status": "ok",
     "timestamp": 1597125887629,
     "user": {
      "displayName": "RAUSHAN Raj",
      "photoUrl": "https://lh3.googleusercontent.com/a-/AOh14Ggzx2UtLRgfAA9F990pxIS41WDo9WctnzL8mXg3LQ=s64",
      "userId": "17758832831689054457"
     },
     "user_tz": -330
    },
    "id": "TIMIPqmSzz2b",
    "outputId": "1dd9445b-cc23-47b0-b5ff-7ec25de8f8b6"
   },
   "outputs": [
    {
     "name": "stdout",
     "output_type": "stream",
     "text": [
      "You must install pydot (`pip install pydot`) and install graphviz (see instructions at https://graphviz.gitlab.io/download/) for plot_model to work.\n"
     ]
    }
   ],
   "source": [
    "from keras.utils.vis_utils import plot_model\n",
    "plot_model(Bi_lstm2_network, to_file='Bi_lstm2_network.png', show_shapes=True, show_layer_names=True)"
   ]
  },
  {
   "cell_type": "markdown",
   "metadata": {
    "colab_type": "text",
    "id": "6lryjor40AMt"
   },
   "source": [
    "# create siamese network from CNN model and store output feature vectors"
   ]
  },
  {
   "cell_type": "code",
   "execution_count": 29,
   "metadata": {
    "colab": {},
    "colab_type": "code",
    "executionInfo": {
     "elapsed": 70835,
     "status": "ok",
     "timestamp": 1597125889702,
     "user": {
      "displayName": "RAUSHAN Raj",
      "photoUrl": "https://lh3.googleusercontent.com/a-/AOh14Ggzx2UtLRgfAA9F990pxIS41WDo9WctnzL8mXg3LQ=s64",
      "userId": "17758832831689054457"
     },
     "user_tz": -330
    },
    "id": "HKpEilUL0BXF"
   },
   "outputs": [],
   "source": [
    "Question1_Bi_lstm_feature=Bi_lstm2_network(Question1_shape)\n",
    "Question2_Bi_lstm_feature=Bi_lstm2_network(Question2_shape)"
   ]
  },
  {
   "cell_type": "markdown",
   "metadata": {
    "colab_type": "text",
    "id": "KYaCMFQv0I5V"
   },
   "source": [
    "# Adding and multiplying features obtained from Siamese CNN network"
   ]
  },
  {
   "cell_type": "code",
   "execution_count": 30,
   "metadata": {
    "colab": {},
    "colab_type": "code",
    "executionInfo": {
     "elapsed": 70832,
     "status": "ok",
     "timestamp": 1597125889704,
     "user": {
      "displayName": "RAUSHAN Raj",
      "photoUrl": "https://lh3.googleusercontent.com/a-/AOh14Ggzx2UtLRgfAA9F990pxIS41WDo9WctnzL8mXg3LQ=s64",
      "userId": "17758832831689054457"
     },
     "user_tz": -330
    },
    "id": "8UsSaoG10J-2"
   },
   "outputs": [],
   "source": [
    "from keras import backend as K\n",
    "from keras.optimizers import Adam"
   ]
  },
  {
   "cell_type": "code",
   "execution_count": 31,
   "metadata": {
    "colab": {},
    "colab_type": "code",
    "executionInfo": {
     "elapsed": 70830,
     "status": "ok",
     "timestamp": 1597125889707,
     "user": {
      "displayName": "RAUSHAN Raj",
      "photoUrl": "https://lh3.googleusercontent.com/a-/AOh14Ggzx2UtLRgfAA9F990pxIS41WDo9WctnzL8mXg3LQ=s64",
      "userId": "17758832831689054457"
     },
     "user_tz": -330
    },
    "id": "F3X2wMy40OZs"
   },
   "outputs": [],
   "source": [
    "lamda_function=Lambda(lambda tensor:K.abs(tensor[0]-tensor[1]),name=\"Absolute_distance\")\n",
    "abs_distance_vector=lamda_function([Question1_Bi_lstm_feature,Question2_Bi_lstm_feature])\n",
    "\n",
    "lamda_function2=Lambda(lambda tensor:K.abs(tensor[0]*tensor[1]),name=\"Hamadard_multiplication\") #abs() returns absolute value\n",
    "hamadard_vector=lamda_function2([Question1_Bi_lstm_feature,Question2_Bi_lstm_feature])"
   ]
  },
  {
   "cell_type": "markdown",
   "metadata": {
    "colab_type": "text",
    "id": "2W6_M-D70Xhx"
   },
   "source": [
    "# Adding abs_distance_vector and hamadard_vector"
   ]
  },
  {
   "cell_type": "code",
   "execution_count": 32,
   "metadata": {
    "colab": {},
    "colab_type": "code",
    "executionInfo": {
     "elapsed": 70827,
     "status": "ok",
     "timestamp": 1597125889708,
     "user": {
      "displayName": "RAUSHAN Raj",
      "photoUrl": "https://lh3.googleusercontent.com/a-/AOh14Ggzx2UtLRgfAA9F990pxIS41WDo9WctnzL8mXg3LQ=s64",
      "userId": "17758832831689054457"
     },
     "user_tz": -330
    },
    "id": "-xNM_z_r0YuK"
   },
   "outputs": [],
   "source": [
    "from keras.layers import Add"
   ]
  },
  {
   "cell_type": "code",
   "execution_count": 33,
   "metadata": {
    "colab": {},
    "colab_type": "code",
    "executionInfo": {
     "elapsed": 70824,
     "status": "ok",
     "timestamp": 1597125889709,
     "user": {
      "displayName": "RAUSHAN Raj",
      "photoUrl": "https://lh3.googleusercontent.com/a-/AOh14Ggzx2UtLRgfAA9F990pxIS41WDo9WctnzL8mXg3LQ=s64",
      "userId": "17758832831689054457"
     },
     "user_tz": -330
    },
    "id": "J2J3QGyZ0eQk"
   },
   "outputs": [],
   "source": [
    "added_vecotr = Add()([abs_distance_vector, hamadard_vector])"
   ]
  },
  {
   "cell_type": "markdown",
   "metadata": {
    "colab_type": "text",
    "id": "pErNldjt0hRm"
   },
   "source": [
    "# Final Model prediction"
   ]
  },
  {
   "cell_type": "code",
   "execution_count": 34,
   "metadata": {
    "colab": {},
    "colab_type": "code",
    "executionInfo": {
     "elapsed": 70822,
     "status": "ok",
     "timestamp": 1597125889710,
     "user": {
      "displayName": "RAUSHAN Raj",
      "photoUrl": "https://lh3.googleusercontent.com/a-/AOh14Ggzx2UtLRgfAA9F990pxIS41WDo9WctnzL8mXg3LQ=s64",
      "userId": "17758832831689054457"
     },
     "user_tz": -330
    },
    "id": "d3J6cRvC0ij9"
   },
   "outputs": [],
   "source": [
    "predict=Dense(2,activation=\"sigmoid\")(added_vecotr)"
   ]
  },
  {
   "cell_type": "markdown",
   "metadata": {
    "colab_type": "text",
    "id": "xlZuxkmS0k2R"
   },
   "source": [
    "# Creating sequential model using Model() class and compilation"
   ]
  },
  {
   "cell_type": "code",
   "execution_count": 35,
   "metadata": {
    "colab": {},
    "colab_type": "code",
    "executionInfo": {
     "elapsed": 70819,
     "status": "ok",
     "timestamp": 1597125889711,
     "user": {
      "displayName": "RAUSHAN Raj",
      "photoUrl": "https://lh3.googleusercontent.com/a-/AOh14Ggzx2UtLRgfAA9F990pxIS41WDo9WctnzL8mXg3LQ=s64",
      "userId": "17758832831689054457"
     },
     "user_tz": -330
    },
    "id": "CsBQ6g1u0n-9"
   },
   "outputs": [
    {
     "name": "stderr",
     "output_type": "stream",
     "text": [
      "C:\\Users\\ankesh.anupam\\AppData\\Local\\Programs\\Python\\Python311\\Lib\\site-packages\\keras\\optimizers\\legacy\\adam.py:117: UserWarning: The `lr` argument is deprecated, use `learning_rate` instead.\n",
      "  super().__init__(name, **kwargs)\n"
     ]
    }
   ],
   "source": [
    "from sklearn.metrics import roc_auc_score, roc_curve, accuracy_score\n",
    "Siamese2_Network=Model(inputs=[Question1_shape,Question2_shape],outputs=predict)\n",
    "Siamese2_Network.compile(loss = \"binary_crossentropy\", optimizer=Adam(lr=0.00003), metrics=[\"accuracy\"])"
   ]
  },
  {
   "cell_type": "code",
   "execution_count": 36,
   "metadata": {
    "colab": {
     "base_uri": "https://localhost:8080/",
     "height": 468
    },
    "colab_type": "code",
    "executionInfo": {
     "elapsed": 70808,
     "status": "ok",
     "timestamp": 1597125889711,
     "user": {
      "displayName": "RAUSHAN Raj",
      "photoUrl": "https://lh3.googleusercontent.com/a-/AOh14Ggzx2UtLRgfAA9F990pxIS41WDo9WctnzL8mXg3LQ=s64",
      "userId": "17758832831689054457"
     },
     "user_tz": -330
    },
    "id": "kejrmh2W01Hz",
    "outputId": "03436ff7-cba9-4079-8836-bd435654c199"
   },
   "outputs": [
    {
     "name": "stdout",
     "output_type": "stream",
     "text": [
      "Model: \"model\"\n",
      "__________________________________________________________________________________________________\n",
      " Layer (type)                   Output Shape         Param #     Connected to                     \n",
      "==================================================================================================\n",
      " input_1 (InputLayer)           [(None, 100)]        0           []                               \n",
      "                                                                                                  \n",
      " input_2 (InputLayer)           [(None, 100)]        0           []                               \n",
      "                                                                                                  \n",
      " sequential (Sequential)        (None, 128)          27163008    ['input_1[0][0]',                \n",
      "                                                                  'input_2[0][0]']                \n",
      "                                                                                                  \n",
      " Absolute_distance (Lambda)     (None, 128)          0           ['sequential[0][0]',             \n",
      "                                                                  'sequential[1][0]']             \n",
      "                                                                                                  \n",
      " Hamadard_multiplication (Lambd  (None, 128)         0           ['sequential[0][0]',             \n",
      " a)                                                               'sequential[1][0]']             \n",
      "                                                                                                  \n",
      " add (Add)                      (None, 128)          0           ['Absolute_distance[0][0]',      \n",
      "                                                                  'Hamadard_multiplication[0][0]']\n",
      "                                                                                                  \n",
      " dense_1 (Dense)                (None, 2)            258         ['add[0][0]']                    \n",
      "                                                                                                  \n",
      "==================================================================================================\n",
      "Total params: 27,163,266\n",
      "Trainable params: 168,066\n",
      "Non-trainable params: 26,995,200\n",
      "__________________________________________________________________________________________________\n"
     ]
    }
   ],
   "source": [
    "Siamese2_Network.summary()"
   ]
  },
  {
   "cell_type": "markdown",
   "metadata": {
    "colab_type": "text",
    "id": "32tlMiUvEeBB"
   },
   "source": [
    "# Setting hyperparameter for training"
   ]
  },
  {
   "cell_type": "code",
   "execution_count": 38,
   "metadata": {
    "colab": {},
    "colab_type": "code",
    "executionInfo": {
     "elapsed": 70772,
     "status": "ok",
     "timestamp": 1597125889713,
     "user": {
      "displayName": "RAUSHAN Raj",
      "photoUrl": "https://lh3.googleusercontent.com/a-/AOh14Ggzx2UtLRgfAA9F990pxIS41WDo9WctnzL8mXg3LQ=s64",
      "userId": "17758832831689054457"
     },
     "user_tz": -330
    },
    "id": "1hVNuCr3Ef6R"
   },
   "outputs": [],
   "source": [
    "from keras.callbacks import EarlyStopping, ReduceLROnPlateau,ModelCheckpoint\n",
    "earlystopper = EarlyStopping(patience=8, verbose=1)\n",
    "#checkpointer = ModelCheckpoint(filepath = 'cnn_model_one_.{epoch:02d}-{val_loss:.6f}.hdf5',\n",
    " #                              verbose=1,\n",
    " #                              save_best_only=True, save_weights_only = True)\n",
    "\n",
    "reduce_lr = ReduceLROnPlateau(monitor='val_loss', factor=0.9,\n",
    "                              patience=2, min_lr=0.00001, verbose=1)"
   ]
  },
  {
   "cell_type": "markdown",
   "metadata": {
    "colab_type": "text",
    "id": "8sgAUJQfEqDX"
   },
   "source": [
    "# Data split into train and validation set"
   ]
  },
  {
   "cell_type": "code",
   "execution_count": 39,
   "metadata": {
    "colab": {},
    "colab_type": "code",
    "executionInfo": {
     "elapsed": 71456,
     "status": "ok",
     "timestamp": 1597125890412,
     "user": {
      "displayName": "RAUSHAN Raj",
      "photoUrl": "https://lh3.googleusercontent.com/a-/AOh14Ggzx2UtLRgfAA9F990pxIS41WDo9WctnzL8mXg3LQ=s64",
      "userId": "17758832831689054457"
     },
     "user_tz": -330
    },
    "id": "D4-SC3pSErqT"
   },
   "outputs": [],
   "source": [
    "# Splitting data into train and test\n",
    "from sklearn.model_selection import train_test_split\n",
    "q1_train, q1_val,q2_train, q2_val, label_train, label_val, label_oneD_train, label_oneD_val = train_test_split(padded_docs_q1,padded_docs_q2, label_twoDimension, label_oneDimension, test_size=0.30,\n",
    "random_state=42)"
   ]
  },
  {
   "cell_type": "markdown",
   "metadata": {
    "colab_type": "text",
    "id": "Z9OKHikoEy5_"
   },
   "source": [
    "# Model fitting or training"
   ]
  },
  {
   "cell_type": "code",
   "execution_count": 43,
   "metadata": {
    "colab": {
     "base_uri": "https://localhost:8080/",
     "height": 52
    },
    "colab_type": "code",
    "id": "_HHgFanKE05w",
    "outputId": "d610b522-3f4a-4d00-8d32-87e5fed696e3"
   },
   "outputs": [
    {
     "name": "stdout",
     "output_type": "stream",
     "text": [
      "Epoch 1/20\n",
      "8844/8844 [==============================] - 3119s 353ms/step - loss: 0.5734 - accuracy: 0.7044 - val_loss: 0.5687 - val_accuracy: 0.7101 - lr: 3.0000e-05\n",
      "Epoch 2/20\n",
      "8844/8844 [==============================] - 3780s 427ms/step - loss: 0.5497 - accuracy: 0.7224 - val_loss: 0.5473 - val_accuracy: 0.7240 - lr: 3.0000e-05\n",
      "Epoch 3/20\n",
      "8844/8844 [==============================] - 2917s 330ms/step - loss: 0.5366 - accuracy: 0.7319 - val_loss: 0.5397 - val_accuracy: 0.7332 - lr: 3.0000e-05\n",
      "Epoch 4/20\n",
      "8844/8844 [==============================] - 2859s 323ms/step - loss: 0.5262 - accuracy: 0.7396 - val_loss: 0.5253 - val_accuracy: 0.7380 - lr: 3.0000e-05\n",
      "Epoch 5/20\n",
      "8844/8844 [==============================] - 2912s 329ms/step - loss: 0.5178 - accuracy: 0.7451 - val_loss: 0.5234 - val_accuracy: 0.7373 - lr: 3.0000e-05\n",
      "Epoch 6/20\n",
      "8844/8844 [==============================] - 2952s 334ms/step - loss: 0.5115 - accuracy: 0.7493 - val_loss: 0.5143 - val_accuracy: 0.7445 - lr: 3.0000e-05\n",
      "Epoch 7/20\n",
      "8844/8844 [==============================] - 2998s 339ms/step - loss: 0.5051 - accuracy: 0.7527 - val_loss: 0.5077 - val_accuracy: 0.7463 - lr: 3.0000e-05\n",
      "Epoch 8/20\n",
      "8844/8844 [==============================] - 3066s 347ms/step - loss: 0.4999 - accuracy: 0.7565 - val_loss: 0.5059 - val_accuracy: 0.7483 - lr: 3.0000e-05\n",
      "Epoch 9/20\n",
      "3471/8844 [==========>...................] - ETA: 26:14 - loss: 0.4951 - accuracy: 0.7590"
     ]
    },
    {
     "ename": "KeyboardInterrupt",
     "evalue": "",
     "output_type": "error",
     "traceback": [
      "\u001b[1;31m---------------------------------------------------------------------------\u001b[0m",
      "\u001b[1;31mKeyboardInterrupt\u001b[0m                         Traceback (most recent call last)",
      "Cell \u001b[1;32mIn[43], line 1\u001b[0m\n\u001b[1;32m----> 1\u001b[0m history \u001b[38;5;241m=\u001b[39m \u001b[43mSiamese2_Network\u001b[49m\u001b[38;5;241;43m.\u001b[39;49m\u001b[43mfit\u001b[49m\u001b[43m(\u001b[49m\u001b[43m[\u001b[49m\u001b[43mq1_train\u001b[49m\u001b[43m,\u001b[49m\u001b[43mq2_train\u001b[49m\u001b[43m]\u001b[49m\u001b[43m,\u001b[49m\u001b[43mlabel_train\u001b[49m\u001b[43m,\u001b[49m\n\u001b[0;32m      2\u001b[0m \u001b[43m                    \u001b[49m\u001b[43mbatch_size\u001b[49m\u001b[38;5;241;43m=\u001b[39;49m\u001b[38;5;241;43m32\u001b[39;49m\u001b[43m,\u001b[49m\u001b[43mepochs\u001b[49m\u001b[38;5;241;43m=\u001b[39;49m\u001b[38;5;241;43m20\u001b[39;49m\u001b[43m,\u001b[49m\u001b[43mvalidation_data\u001b[49m\u001b[38;5;241;43m=\u001b[39;49m\u001b[43m(\u001b[49m\u001b[43m[\u001b[49m\u001b[43mq1_val\u001b[49m\u001b[43m,\u001b[49m\u001b[43mq2_val\u001b[49m\u001b[43m]\u001b[49m\u001b[43m,\u001b[49m\u001b[43mlabel_val\u001b[49m\u001b[43m)\u001b[49m\u001b[43m,\u001b[49m\u001b[43mcallbacks\u001b[49m\u001b[38;5;241;43m=\u001b[39;49m\u001b[43m[\u001b[49m\u001b[43mearlystopper\u001b[49m\u001b[43m,\u001b[49m\u001b[43m \u001b[49m\u001b[43mreduce_lr\u001b[49m\u001b[43m]\u001b[49m\u001b[43m)\u001b[49m\n",
      "File \u001b[1;32m~\\AppData\\Local\\Programs\\Python\\Python311\\Lib\\site-packages\\keras\\utils\\traceback_utils.py:65\u001b[0m, in \u001b[0;36mfilter_traceback.<locals>.error_handler\u001b[1;34m(*args, **kwargs)\u001b[0m\n\u001b[0;32m     63\u001b[0m filtered_tb \u001b[38;5;241m=\u001b[39m \u001b[38;5;28;01mNone\u001b[39;00m\n\u001b[0;32m     64\u001b[0m \u001b[38;5;28;01mtry\u001b[39;00m:\n\u001b[1;32m---> 65\u001b[0m     \u001b[38;5;28;01mreturn\u001b[39;00m \u001b[43mfn\u001b[49m\u001b[43m(\u001b[49m\u001b[38;5;241;43m*\u001b[39;49m\u001b[43margs\u001b[49m\u001b[43m,\u001b[49m\u001b[43m \u001b[49m\u001b[38;5;241;43m*\u001b[39;49m\u001b[38;5;241;43m*\u001b[39;49m\u001b[43mkwargs\u001b[49m\u001b[43m)\u001b[49m\n\u001b[0;32m     66\u001b[0m \u001b[38;5;28;01mexcept\u001b[39;00m \u001b[38;5;167;01mException\u001b[39;00m \u001b[38;5;28;01mas\u001b[39;00m e:\n\u001b[0;32m     67\u001b[0m     filtered_tb \u001b[38;5;241m=\u001b[39m _process_traceback_frames(e\u001b[38;5;241m.\u001b[39m__traceback__)\n",
      "File \u001b[1;32m~\\AppData\\Local\\Programs\\Python\\Python311\\Lib\\site-packages\\keras\\engine\\training.py:1685\u001b[0m, in \u001b[0;36mModel.fit\u001b[1;34m(self, x, y, batch_size, epochs, verbose, callbacks, validation_split, validation_data, shuffle, class_weight, sample_weight, initial_epoch, steps_per_epoch, validation_steps, validation_batch_size, validation_freq, max_queue_size, workers, use_multiprocessing)\u001b[0m\n\u001b[0;32m   1677\u001b[0m \u001b[38;5;28;01mwith\u001b[39;00m tf\u001b[38;5;241m.\u001b[39mprofiler\u001b[38;5;241m.\u001b[39mexperimental\u001b[38;5;241m.\u001b[39mTrace(\n\u001b[0;32m   1678\u001b[0m     \u001b[38;5;124m\"\u001b[39m\u001b[38;5;124mtrain\u001b[39m\u001b[38;5;124m\"\u001b[39m,\n\u001b[0;32m   1679\u001b[0m     epoch_num\u001b[38;5;241m=\u001b[39mepoch,\n\u001b[1;32m   (...)\u001b[0m\n\u001b[0;32m   1682\u001b[0m     _r\u001b[38;5;241m=\u001b[39m\u001b[38;5;241m1\u001b[39m,\n\u001b[0;32m   1683\u001b[0m ):\n\u001b[0;32m   1684\u001b[0m     callbacks\u001b[38;5;241m.\u001b[39mon_train_batch_begin(step)\n\u001b[1;32m-> 1685\u001b[0m     tmp_logs \u001b[38;5;241m=\u001b[39m \u001b[38;5;28;43mself\u001b[39;49m\u001b[38;5;241;43m.\u001b[39;49m\u001b[43mtrain_function\u001b[49m\u001b[43m(\u001b[49m\u001b[43miterator\u001b[49m\u001b[43m)\u001b[49m\n\u001b[0;32m   1686\u001b[0m     \u001b[38;5;28;01mif\u001b[39;00m data_handler\u001b[38;5;241m.\u001b[39mshould_sync:\n\u001b[0;32m   1687\u001b[0m         context\u001b[38;5;241m.\u001b[39masync_wait()\n",
      "File \u001b[1;32m~\\AppData\\Local\\Programs\\Python\\Python311\\Lib\\site-packages\\tensorflow\\python\\util\\traceback_utils.py:150\u001b[0m, in \u001b[0;36mfilter_traceback.<locals>.error_handler\u001b[1;34m(*args, **kwargs)\u001b[0m\n\u001b[0;32m    148\u001b[0m filtered_tb \u001b[38;5;241m=\u001b[39m \u001b[38;5;28;01mNone\u001b[39;00m\n\u001b[0;32m    149\u001b[0m \u001b[38;5;28;01mtry\u001b[39;00m:\n\u001b[1;32m--> 150\u001b[0m   \u001b[38;5;28;01mreturn\u001b[39;00m \u001b[43mfn\u001b[49m\u001b[43m(\u001b[49m\u001b[38;5;241;43m*\u001b[39;49m\u001b[43margs\u001b[49m\u001b[43m,\u001b[49m\u001b[43m \u001b[49m\u001b[38;5;241;43m*\u001b[39;49m\u001b[38;5;241;43m*\u001b[39;49m\u001b[43mkwargs\u001b[49m\u001b[43m)\u001b[49m\n\u001b[0;32m    151\u001b[0m \u001b[38;5;28;01mexcept\u001b[39;00m \u001b[38;5;167;01mException\u001b[39;00m \u001b[38;5;28;01mas\u001b[39;00m e:\n\u001b[0;32m    152\u001b[0m   filtered_tb \u001b[38;5;241m=\u001b[39m _process_traceback_frames(e\u001b[38;5;241m.\u001b[39m__traceback__)\n",
      "File \u001b[1;32m~\\AppData\\Local\\Programs\\Python\\Python311\\Lib\\site-packages\\tensorflow\\python\\eager\\polymorphic_function\\polymorphic_function.py:894\u001b[0m, in \u001b[0;36mFunction.__call__\u001b[1;34m(self, *args, **kwds)\u001b[0m\n\u001b[0;32m    891\u001b[0m compiler \u001b[38;5;241m=\u001b[39m \u001b[38;5;124m\"\u001b[39m\u001b[38;5;124mxla\u001b[39m\u001b[38;5;124m\"\u001b[39m \u001b[38;5;28;01mif\u001b[39;00m \u001b[38;5;28mself\u001b[39m\u001b[38;5;241m.\u001b[39m_jit_compile \u001b[38;5;28;01melse\u001b[39;00m \u001b[38;5;124m\"\u001b[39m\u001b[38;5;124mnonXla\u001b[39m\u001b[38;5;124m\"\u001b[39m\n\u001b[0;32m    893\u001b[0m \u001b[38;5;28;01mwith\u001b[39;00m OptionalXlaContext(\u001b[38;5;28mself\u001b[39m\u001b[38;5;241m.\u001b[39m_jit_compile):\n\u001b[1;32m--> 894\u001b[0m   result \u001b[38;5;241m=\u001b[39m \u001b[38;5;28;43mself\u001b[39;49m\u001b[38;5;241;43m.\u001b[39;49m\u001b[43m_call\u001b[49m\u001b[43m(\u001b[49m\u001b[38;5;241;43m*\u001b[39;49m\u001b[43margs\u001b[49m\u001b[43m,\u001b[49m\u001b[43m \u001b[49m\u001b[38;5;241;43m*\u001b[39;49m\u001b[38;5;241;43m*\u001b[39;49m\u001b[43mkwds\u001b[49m\u001b[43m)\u001b[49m\n\u001b[0;32m    896\u001b[0m new_tracing_count \u001b[38;5;241m=\u001b[39m \u001b[38;5;28mself\u001b[39m\u001b[38;5;241m.\u001b[39mexperimental_get_tracing_count()\n\u001b[0;32m    897\u001b[0m without_tracing \u001b[38;5;241m=\u001b[39m (tracing_count \u001b[38;5;241m==\u001b[39m new_tracing_count)\n",
      "File \u001b[1;32m~\\AppData\\Local\\Programs\\Python\\Python311\\Lib\\site-packages\\tensorflow\\python\\eager\\polymorphic_function\\polymorphic_function.py:926\u001b[0m, in \u001b[0;36mFunction._call\u001b[1;34m(self, *args, **kwds)\u001b[0m\n\u001b[0;32m    923\u001b[0m   \u001b[38;5;28mself\u001b[39m\u001b[38;5;241m.\u001b[39m_lock\u001b[38;5;241m.\u001b[39mrelease()\n\u001b[0;32m    924\u001b[0m   \u001b[38;5;66;03m# In this case we have created variables on the first call, so we run the\u001b[39;00m\n\u001b[0;32m    925\u001b[0m   \u001b[38;5;66;03m# defunned version which is guaranteed to never create variables.\u001b[39;00m\n\u001b[1;32m--> 926\u001b[0m   \u001b[38;5;28;01mreturn\u001b[39;00m \u001b[38;5;28;43mself\u001b[39;49m\u001b[38;5;241;43m.\u001b[39;49m\u001b[43m_no_variable_creation_fn\u001b[49m\u001b[43m(\u001b[49m\u001b[38;5;241;43m*\u001b[39;49m\u001b[43margs\u001b[49m\u001b[43m,\u001b[49m\u001b[43m \u001b[49m\u001b[38;5;241;43m*\u001b[39;49m\u001b[38;5;241;43m*\u001b[39;49m\u001b[43mkwds\u001b[49m\u001b[43m)\u001b[49m  \u001b[38;5;66;03m# pylint: disable=not-callable\u001b[39;00m\n\u001b[0;32m    927\u001b[0m \u001b[38;5;28;01melif\u001b[39;00m \u001b[38;5;28mself\u001b[39m\u001b[38;5;241m.\u001b[39m_variable_creation_fn \u001b[38;5;129;01mis\u001b[39;00m \u001b[38;5;129;01mnot\u001b[39;00m \u001b[38;5;28;01mNone\u001b[39;00m:\n\u001b[0;32m    928\u001b[0m   \u001b[38;5;66;03m# Release the lock early so that multiple threads can perform the call\u001b[39;00m\n\u001b[0;32m    929\u001b[0m   \u001b[38;5;66;03m# in parallel.\u001b[39;00m\n\u001b[0;32m    930\u001b[0m   \u001b[38;5;28mself\u001b[39m\u001b[38;5;241m.\u001b[39m_lock\u001b[38;5;241m.\u001b[39mrelease()\n",
      "File \u001b[1;32m~\\AppData\\Local\\Programs\\Python\\Python311\\Lib\\site-packages\\tensorflow\\python\\eager\\polymorphic_function\\tracing_compiler.py:143\u001b[0m, in \u001b[0;36mTracingCompiler.__call__\u001b[1;34m(self, *args, **kwargs)\u001b[0m\n\u001b[0;32m    140\u001b[0m \u001b[38;5;28;01mwith\u001b[39;00m \u001b[38;5;28mself\u001b[39m\u001b[38;5;241m.\u001b[39m_lock:\n\u001b[0;32m    141\u001b[0m   (concrete_function,\n\u001b[0;32m    142\u001b[0m    filtered_flat_args) \u001b[38;5;241m=\u001b[39m \u001b[38;5;28mself\u001b[39m\u001b[38;5;241m.\u001b[39m_maybe_define_function(args, kwargs)\n\u001b[1;32m--> 143\u001b[0m \u001b[38;5;28;01mreturn\u001b[39;00m \u001b[43mconcrete_function\u001b[49m\u001b[38;5;241;43m.\u001b[39;49m\u001b[43m_call_flat\u001b[49m\u001b[43m(\u001b[49m\n\u001b[0;32m    144\u001b[0m \u001b[43m    \u001b[49m\u001b[43mfiltered_flat_args\u001b[49m\u001b[43m,\u001b[49m\u001b[43m \u001b[49m\u001b[43mcaptured_inputs\u001b[49m\u001b[38;5;241;43m=\u001b[39;49m\u001b[43mconcrete_function\u001b[49m\u001b[38;5;241;43m.\u001b[39;49m\u001b[43mcaptured_inputs\u001b[49m\u001b[43m)\u001b[49m\n",
      "File \u001b[1;32m~\\AppData\\Local\\Programs\\Python\\Python311\\Lib\\site-packages\\tensorflow\\python\\eager\\polymorphic_function\\monomorphic_function.py:1757\u001b[0m, in \u001b[0;36mConcreteFunction._call_flat\u001b[1;34m(self, args, captured_inputs, cancellation_manager)\u001b[0m\n\u001b[0;32m   1753\u001b[0m possible_gradient_type \u001b[38;5;241m=\u001b[39m gradients_util\u001b[38;5;241m.\u001b[39mPossibleTapeGradientTypes(args)\n\u001b[0;32m   1754\u001b[0m \u001b[38;5;28;01mif\u001b[39;00m (possible_gradient_type \u001b[38;5;241m==\u001b[39m gradients_util\u001b[38;5;241m.\u001b[39mPOSSIBLE_GRADIENT_TYPES_NONE\n\u001b[0;32m   1755\u001b[0m     \u001b[38;5;129;01mand\u001b[39;00m executing_eagerly):\n\u001b[0;32m   1756\u001b[0m   \u001b[38;5;66;03m# No tape is watching; skip to running the function.\u001b[39;00m\n\u001b[1;32m-> 1757\u001b[0m   \u001b[38;5;28;01mreturn\u001b[39;00m \u001b[38;5;28mself\u001b[39m\u001b[38;5;241m.\u001b[39m_build_call_outputs(\u001b[38;5;28;43mself\u001b[39;49m\u001b[38;5;241;43m.\u001b[39;49m\u001b[43m_inference_function\u001b[49m\u001b[38;5;241;43m.\u001b[39;49m\u001b[43mcall\u001b[49m\u001b[43m(\u001b[49m\n\u001b[0;32m   1758\u001b[0m \u001b[43m      \u001b[49m\u001b[43mctx\u001b[49m\u001b[43m,\u001b[49m\u001b[43m \u001b[49m\u001b[43margs\u001b[49m\u001b[43m,\u001b[49m\u001b[43m \u001b[49m\u001b[43mcancellation_manager\u001b[49m\u001b[38;5;241;43m=\u001b[39;49m\u001b[43mcancellation_manager\u001b[49m\u001b[43m)\u001b[49m)\n\u001b[0;32m   1759\u001b[0m forward_backward \u001b[38;5;241m=\u001b[39m \u001b[38;5;28mself\u001b[39m\u001b[38;5;241m.\u001b[39m_select_forward_and_backward_functions(\n\u001b[0;32m   1760\u001b[0m     args,\n\u001b[0;32m   1761\u001b[0m     possible_gradient_type,\n\u001b[0;32m   1762\u001b[0m     executing_eagerly)\n\u001b[0;32m   1763\u001b[0m forward_function, args_with_tangents \u001b[38;5;241m=\u001b[39m forward_backward\u001b[38;5;241m.\u001b[39mforward()\n",
      "File \u001b[1;32m~\\AppData\\Local\\Programs\\Python\\Python311\\Lib\\site-packages\\tensorflow\\python\\eager\\polymorphic_function\\monomorphic_function.py:381\u001b[0m, in \u001b[0;36m_EagerDefinedFunction.call\u001b[1;34m(self, ctx, args, cancellation_manager)\u001b[0m\n\u001b[0;32m    379\u001b[0m \u001b[38;5;28;01mwith\u001b[39;00m _InterpolateFunctionError(\u001b[38;5;28mself\u001b[39m):\n\u001b[0;32m    380\u001b[0m   \u001b[38;5;28;01mif\u001b[39;00m cancellation_manager \u001b[38;5;129;01mis\u001b[39;00m \u001b[38;5;28;01mNone\u001b[39;00m:\n\u001b[1;32m--> 381\u001b[0m     outputs \u001b[38;5;241m=\u001b[39m \u001b[43mexecute\u001b[49m\u001b[38;5;241;43m.\u001b[39;49m\u001b[43mexecute\u001b[49m\u001b[43m(\u001b[49m\n\u001b[0;32m    382\u001b[0m \u001b[43m        \u001b[49m\u001b[38;5;28;43mstr\u001b[39;49m\u001b[43m(\u001b[49m\u001b[38;5;28;43mself\u001b[39;49m\u001b[38;5;241;43m.\u001b[39;49m\u001b[43msignature\u001b[49m\u001b[38;5;241;43m.\u001b[39;49m\u001b[43mname\u001b[49m\u001b[43m)\u001b[49m\u001b[43m,\u001b[49m\n\u001b[0;32m    383\u001b[0m \u001b[43m        \u001b[49m\u001b[43mnum_outputs\u001b[49m\u001b[38;5;241;43m=\u001b[39;49m\u001b[38;5;28;43mself\u001b[39;49m\u001b[38;5;241;43m.\u001b[39;49m\u001b[43m_num_outputs\u001b[49m\u001b[43m,\u001b[49m\n\u001b[0;32m    384\u001b[0m \u001b[43m        \u001b[49m\u001b[43minputs\u001b[49m\u001b[38;5;241;43m=\u001b[39;49m\u001b[43margs\u001b[49m\u001b[43m,\u001b[49m\n\u001b[0;32m    385\u001b[0m \u001b[43m        \u001b[49m\u001b[43mattrs\u001b[49m\u001b[38;5;241;43m=\u001b[39;49m\u001b[43mattrs\u001b[49m\u001b[43m,\u001b[49m\n\u001b[0;32m    386\u001b[0m \u001b[43m        \u001b[49m\u001b[43mctx\u001b[49m\u001b[38;5;241;43m=\u001b[39;49m\u001b[43mctx\u001b[49m\u001b[43m)\u001b[49m\n\u001b[0;32m    387\u001b[0m   \u001b[38;5;28;01melse\u001b[39;00m:\n\u001b[0;32m    388\u001b[0m     outputs \u001b[38;5;241m=\u001b[39m execute\u001b[38;5;241m.\u001b[39mexecute_with_cancellation(\n\u001b[0;32m    389\u001b[0m         \u001b[38;5;28mstr\u001b[39m(\u001b[38;5;28mself\u001b[39m\u001b[38;5;241m.\u001b[39msignature\u001b[38;5;241m.\u001b[39mname),\n\u001b[0;32m    390\u001b[0m         num_outputs\u001b[38;5;241m=\u001b[39m\u001b[38;5;28mself\u001b[39m\u001b[38;5;241m.\u001b[39m_num_outputs,\n\u001b[1;32m   (...)\u001b[0m\n\u001b[0;32m    393\u001b[0m         ctx\u001b[38;5;241m=\u001b[39mctx,\n\u001b[0;32m    394\u001b[0m         cancellation_manager\u001b[38;5;241m=\u001b[39mcancellation_manager)\n",
      "File \u001b[1;32m~\\AppData\\Local\\Programs\\Python\\Python311\\Lib\\site-packages\\tensorflow\\python\\eager\\execute.py:52\u001b[0m, in \u001b[0;36mquick_execute\u001b[1;34m(op_name, num_outputs, inputs, attrs, ctx, name)\u001b[0m\n\u001b[0;32m     50\u001b[0m \u001b[38;5;28;01mtry\u001b[39;00m:\n\u001b[0;32m     51\u001b[0m   ctx\u001b[38;5;241m.\u001b[39mensure_initialized()\n\u001b[1;32m---> 52\u001b[0m   tensors \u001b[38;5;241m=\u001b[39m \u001b[43mpywrap_tfe\u001b[49m\u001b[38;5;241;43m.\u001b[39;49m\u001b[43mTFE_Py_Execute\u001b[49m\u001b[43m(\u001b[49m\u001b[43mctx\u001b[49m\u001b[38;5;241;43m.\u001b[39;49m\u001b[43m_handle\u001b[49m\u001b[43m,\u001b[49m\u001b[43m \u001b[49m\u001b[43mdevice_name\u001b[49m\u001b[43m,\u001b[49m\u001b[43m \u001b[49m\u001b[43mop_name\u001b[49m\u001b[43m,\u001b[49m\n\u001b[0;32m     53\u001b[0m \u001b[43m                                      \u001b[49m\u001b[43minputs\u001b[49m\u001b[43m,\u001b[49m\u001b[43m \u001b[49m\u001b[43mattrs\u001b[49m\u001b[43m,\u001b[49m\u001b[43m \u001b[49m\u001b[43mnum_outputs\u001b[49m\u001b[43m)\u001b[49m\n\u001b[0;32m     54\u001b[0m \u001b[38;5;28;01mexcept\u001b[39;00m core\u001b[38;5;241m.\u001b[39m_NotOkStatusException \u001b[38;5;28;01mas\u001b[39;00m e:\n\u001b[0;32m     55\u001b[0m   \u001b[38;5;28;01mif\u001b[39;00m name \u001b[38;5;129;01mis\u001b[39;00m \u001b[38;5;129;01mnot\u001b[39;00m \u001b[38;5;28;01mNone\u001b[39;00m:\n",
      "\u001b[1;31mKeyboardInterrupt\u001b[0m: "
     ]
    }
   ],
   "source": [
    "history = Siamese2_Network.fit([q1_train,q2_train],label_train,\n",
    "                    batch_size=32,epochs=20,validation_data=([q1_val,q2_val],label_val),callbacks=[earlystopper, reduce_lr])"
   ]
  },
  {
   "cell_type": "markdown",
   "metadata": {
    "colab_type": "text",
    "id": "PF-K_3fvE_Vm"
   },
   "source": [
    "# Model Prediction"
   ]
  },
  {
   "cell_type": "code",
   "execution_count": 44,
   "metadata": {
    "colab": {},
    "colab_type": "code",
    "id": "04VkJlCcFBiu"
   },
   "outputs": [
    {
     "name": "stdout",
     "output_type": "stream",
     "text": [
      "3791/3791 [==============================] - 468s 123ms/step\n"
     ]
    }
   ],
   "source": [
    "Siamese2_Network_predictions = Siamese2_Network.predict([q1_val,q2_val])"
   ]
  },
  {
   "cell_type": "markdown",
   "metadata": {
    "colab_type": "text",
    "id": "0bhBtaJXFQ7I"
   },
   "source": [
    "# Log loss"
   ]
  },
  {
   "cell_type": "code",
   "execution_count": 45,
   "metadata": {
    "colab": {},
    "colab_type": "code",
    "id": "Oo2JDpJ8FUBo"
   },
   "outputs": [
    {
     "data": {
      "text/plain": [
       "0.5011274365522674"
      ]
     },
     "execution_count": 45,
     "metadata": {},
     "output_type": "execute_result"
    }
   ],
   "source": [
    "from sklearn.metrics import log_loss\n",
    "log_loss_val= log_loss(label_val,Siamese2_Network_predictions)\n",
    "log_loss_val"
   ]
  },
  {
   "cell_type": "markdown",
   "metadata": {
    "colab_type": "text",
    "id": "t5bHEV3-Fbng"
   },
   "source": [
    "# Classification report"
   ]
  },
  {
   "cell_type": "code",
   "execution_count": 46,
   "metadata": {
    "colab": {},
    "colab_type": "code",
    "id": "pkkT_LOzFdRN"
   },
   "outputs": [],
   "source": [
    "predictions = np.zeros_like(Siamese2_Network_predictions)\n",
    "predictions[np.arange(len(Siamese2_Network_predictions)), Siamese2_Network_predictions.argmax(1)] = 1\n"
   ]
  },
  {
   "cell_type": "code",
   "execution_count": 47,
   "metadata": {
    "colab": {},
    "colab_type": "code",
    "id": "uLcJSEB6FpX8"
   },
   "outputs": [
    {
     "data": {
      "text/plain": [
       "array([0, 0, 0, ..., 1, 0, 1], dtype=int64)"
      ]
     },
     "execution_count": 47,
     "metadata": {},
     "output_type": "execute_result"
    }
   ],
   "source": [
    "predictionInteger=(np.argmax(predictions, axis=1))\n",
    "#print('np.argmax(a, axis=1): {0}'.format(np.argmax(predictions, axis=1)))\n",
    "predictionInteger"
   ]
  },
  {
   "cell_type": "code",
   "execution_count": 48,
   "metadata": {
    "colab": {},
    "colab_type": "code",
    "id": "4d9TGDdwFu2A"
   },
   "outputs": [
    {
     "name": "stdout",
     "output_type": "stream",
     "text": [
      "              precision    recall  f1-score   support\n",
      "\n",
      "           0       0.75      0.91      0.82     76350\n",
      "           1       0.76      0.49      0.59     44937\n",
      "\n",
      "   micro avg       0.75      0.75      0.75    121287\n",
      "   macro avg       0.75      0.70      0.71    121287\n",
      "weighted avg       0.75      0.75      0.74    121287\n",
      " samples avg       0.75      0.75      0.75    121287\n",
      "\n"
     ]
    }
   ],
   "source": [
    "from sklearn.metrics import classification_report\n",
    "print(classification_report(label_val,predictions))"
   ]
  },
  {
   "cell_type": "code",
   "execution_count": 49,
   "metadata": {
    "colab": {},
    "colab_type": "code",
    "id": "D2EXbXGeFu5o"
   },
   "outputs": [
    {
     "name": "stdout",
     "output_type": "stream",
     "text": [
      "Precision, Recall, F1_score : macro  (0.7538527919869207, 0.697653533982721, 0.7073898065136264, None)\n",
      "Precision, Recall, F1_score : micro  (0.7521333696109228, 0.7521333696109228, 0.7521333696109228, None)\n",
      "Precision, Recall, F1_score : weighted  (0.7530014417182193, 0.7521333696109228, 0.7370248226976395, None)\n"
     ]
    }
   ],
   "source": [
    "from sklearn.metrics import precision_recall_fscore_support\n",
    "print (\"Precision, Recall, F1_score : macro \",precision_recall_fscore_support(label_oneD_val,predictionInteger, average='macro'))\n",
    "print (\"Precision, Recall, F1_score : micro \",precision_recall_fscore_support(label_oneD_val,predictionInteger, average='micro'))\n",
    "print (\"Precision, Recall, F1_score : weighted \",precision_recall_fscore_support(label_oneD_val,predictionInteger, average='weighted'))"
   ]
  },
  {
   "cell_type": "markdown",
   "metadata": {
    "colab_type": "text",
    "id": "Ro-epZtpF1uh"
   },
   "source": [
    "# Final train and val loss"
   ]
  },
  {
   "cell_type": "code",
   "execution_count": 50,
   "metadata": {
    "colab": {},
    "colab_type": "code",
    "id": "LhOnj_urF3e1"
   },
   "outputs": [
    {
     "ename": "NameError",
     "evalue": "name 'history' is not defined",
     "output_type": "error",
     "traceback": [
      "\u001b[1;31m---------------------------------------------------------------------------\u001b[0m",
      "\u001b[1;31mNameError\u001b[0m                                 Traceback (most recent call last)",
      "Cell \u001b[1;32mIn[50], line 1\u001b[0m\n\u001b[1;32m----> 1\u001b[0m min_val_loss \u001b[38;5;241m=\u001b[39m \u001b[38;5;28mmin\u001b[39m(\u001b[43mhistory\u001b[49m\u001b[38;5;241m.\u001b[39mhistory[\u001b[38;5;124m\"\u001b[39m\u001b[38;5;124mval_loss\u001b[39m\u001b[38;5;124m\"\u001b[39m])\n\u001b[0;32m      2\u001b[0m min_train_loss \u001b[38;5;241m=\u001b[39m \u001b[38;5;28mmin\u001b[39m(history\u001b[38;5;241m.\u001b[39mhistory[\u001b[38;5;124m\"\u001b[39m\u001b[38;5;124mloss\u001b[39m\u001b[38;5;124m\"\u001b[39m])\n\u001b[0;32m      3\u001b[0m max_val_acc \u001b[38;5;241m=\u001b[39m \u001b[38;5;28mmax\u001b[39m(history\u001b[38;5;241m.\u001b[39mhistory[\u001b[38;5;124m\"\u001b[39m\u001b[38;5;124mval_accuracy\u001b[39m\u001b[38;5;124m\"\u001b[39m])\n",
      "\u001b[1;31mNameError\u001b[0m: name 'history' is not defined"
     ]
    }
   ],
   "source": [
    "min_val_loss = min(history.history[\"val_loss\"])\n",
    "min_train_loss = min(history.history[\"loss\"])\n",
    "max_val_acc = max(history.history[\"val_accuracy\"])\n",
    "max_train_acc = max(history.history[\"accuracy\"])\n",
    "print(\"min_train_loss=%g, min_val_loss=%g, max_train_acc=%g, max_val_acc=%g\" % (min_train_loss,min_val_loss,max_train_acc,max_val_acc))"
   ]
  },
  {
   "cell_type": "markdown",
   "metadata": {
    "colab_type": "text",
    "id": "_hP3_RAfF9G0"
   },
   "source": [
    "# Plot epoch Vs loss"
   ]
  },
  {
   "cell_type": "code",
   "execution_count": 51,
   "metadata": {
    "colab": {},
    "colab_type": "code",
    "id": "fDG3UNVXF-zM"
   },
   "outputs": [
    {
     "ename": "NameError",
     "evalue": "name 'history' is not defined",
     "output_type": "error",
     "traceback": [
      "\u001b[1;31m---------------------------------------------------------------------------\u001b[0m",
      "\u001b[1;31mNameError\u001b[0m                                 Traceback (most recent call last)",
      "Cell \u001b[1;32mIn[51], line 2\u001b[0m\n\u001b[0;32m      1\u001b[0m \u001b[38;5;28;01mfrom\u001b[39;00m \u001b[38;5;21;01mmatplotlib\u001b[39;00m \u001b[38;5;28;01mimport\u001b[39;00m pyplot \u001b[38;5;28;01mas\u001b[39;00m plt\n\u001b[1;32m----> 2\u001b[0m plt\u001b[38;5;241m.\u001b[39mplot(\u001b[43mhistory\u001b[49m\u001b[38;5;241m.\u001b[39mhistory[\u001b[38;5;124m\"\u001b[39m\u001b[38;5;124mloss\u001b[39m\u001b[38;5;124m\"\u001b[39m],color \u001b[38;5;241m=\u001b[39m \u001b[38;5;124m'\u001b[39m\u001b[38;5;124mred\u001b[39m\u001b[38;5;124m'\u001b[39m, label \u001b[38;5;241m=\u001b[39m \u001b[38;5;124m'\u001b[39m\u001b[38;5;124mtrain_loss\u001b[39m\u001b[38;5;124m'\u001b[39m)\n\u001b[0;32m      3\u001b[0m plt\u001b[38;5;241m.\u001b[39mplot(history\u001b[38;5;241m.\u001b[39mhistory[\u001b[38;5;124m\"\u001b[39m\u001b[38;5;124mval_loss\u001b[39m\u001b[38;5;124m\"\u001b[39m],color \u001b[38;5;241m=\u001b[39m \u001b[38;5;124m'\u001b[39m\u001b[38;5;124mblue\u001b[39m\u001b[38;5;124m'\u001b[39m, label \u001b[38;5;241m=\u001b[39m \u001b[38;5;124m'\u001b[39m\u001b[38;5;124mval_loss\u001b[39m\u001b[38;5;124m'\u001b[39m)\n\u001b[0;32m      4\u001b[0m plt\u001b[38;5;241m.\u001b[39mtitle(\u001b[38;5;124m'\u001b[39m\u001b[38;5;124mLoss Visualisation\u001b[39m\u001b[38;5;124m'\u001b[39m)\n",
      "\u001b[1;31mNameError\u001b[0m: name 'history' is not defined"
     ]
    }
   ],
   "source": [
    "from matplotlib import pyplot as plt\n",
    "plt.plot(history.history[\"loss\"],color = 'red', label = 'train_loss')\n",
    "plt.plot(history.history[\"val_loss\"],color = 'blue', label = 'val_loss')\n",
    "plt.title('Loss Visualisation')\n",
    "plt.xlabel('Epochs')\n",
    "plt.ylabel('Loss')\n",
    "plt.legend() "
   ]
  },
  {
   "cell_type": "markdown",
   "metadata": {
    "colab_type": "text",
    "id": "7Nj5NhMfGOYU"
   },
   "source": [
    "# Plot Epoch Vs Accuracy"
   ]
  },
  {
   "cell_type": "code",
   "execution_count": null,
   "metadata": {
    "colab": {},
    "colab_type": "code",
    "id": "6-mrBt6HGPlY"
   },
   "outputs": [],
   "source": [
    "plt.plot(history.history[\"accuracy\"],color = 'red', label = 'train_accuracy')\n",
    "plt.plot(history.history[\"val_accuracy\"],color = 'blue', label = 'val_accuracy')\n",
    "plt.title('Accuracy Visualisation')\n",
    "plt.xlabel('Epochs')\n",
    "plt.ylabel('Accuracy')\n",
    "plt.legend()"
   ]
  },
  {
   "cell_type": "markdown",
   "metadata": {
    "colab_type": "text",
    "id": "drsZ-tlUGX-f"
   },
   "source": [
    "# Area Under Curve- ROC"
   ]
  },
  {
   "cell_type": "code",
   "execution_count": null,
   "metadata": {
    "colab": {},
    "colab_type": "code",
    "id": "h43pFeLzGZVK"
   },
   "outputs": [],
   "source": [
    "#pred_test = Siamese2_Network.predict([padded_docs_q1_test,padded_docs_q2_test])\n",
    "pred_train = Siamese2_Network.predict([q1_train,q2_train])\n",
    "pred_val = Siamese2_Network.predict([q1_val,q2_val])"
   ]
  },
  {
   "cell_type": "code",
   "execution_count": null,
   "metadata": {
    "colab": {},
    "colab_type": "code",
    "id": "5eJDCiI_Giwb"
   },
   "outputs": [],
   "source": [
    "import numpy as np\n",
    "import matplotlib.pyplot as plt\n",
    "from itertools import cycle\n",
    "\n",
    "from sklearn import svm, datasets\n",
    "from sklearn.metrics import roc_curve, auc\n",
    "from sklearn.model_selection import train_test_split\n",
    "from sklearn.preprocessing import label_binarize\n",
    "from sklearn.multiclass import OneVsRestClassifier\n",
    "from scipy import interp\n",
    "\n",
    "def plot_AUC_ROC(y_true, y_pred):\n",
    "    n_classes = 2 #change this value according to class value\n",
    "\n",
    "    # Compute ROC curve and ROC area for each class\n",
    "    fpr = dict()\n",
    "    tpr = dict()\n",
    "    roc_auc = dict()\n",
    "    for i in range(n_classes):\n",
    "        fpr[i], tpr[i], _ = roc_curve(y_true[:, i], y_pred[:, i])\n",
    "        roc_auc[i] = auc(fpr[i], tpr[i])\n",
    "\n",
    "    # Compute micro-average ROC curve and ROC area\n",
    "    fpr[\"micro\"], tpr[\"micro\"], _ = roc_curve(y_true.ravel(), y_pred.ravel())\n",
    "    roc_auc[\"micro\"] = auc(fpr[\"micro\"], tpr[\"micro\"])\n",
    "############################################################################################\n",
    "    lw = 2\n",
    "    # Compute macro-average ROC curve and ROC area\n",
    "\n",
    "    # First aggregate all false positive rates\n",
    "    all_fpr = np.unique(np.concatenate([fpr[i] for i in range(n_classes)]))\n",
    "\n",
    "    # Then interpolate all ROC curves at this points\n",
    "    mean_tpr = np.zeros_like(all_fpr)\n",
    "    for i in range(n_classes):\n",
    "        mean_tpr += interp(all_fpr, fpr[i], tpr[i])\n",
    "\n",
    "    # Finally average it and compute AUC\n",
    "    mean_tpr /= n_classes\n",
    "\n",
    "    fpr[\"macro\"] = all_fpr\n",
    "    tpr[\"macro\"] = mean_tpr\n",
    "    roc_auc[\"macro\"] = auc(fpr[\"macro\"], tpr[\"macro\"])\n",
    "\n",
    "    # Plot all ROC curves\n",
    "    plt.figure()\n",
    "    \n",
    "    plt.plot(fpr[\"micro\"], tpr[\"micro\"],\n",
    "            label='micro-average ROC curve (area = {0:0.2f})'\n",
    "               ''.format(roc_auc[\"micro\"]),\n",
    "            color='deeppink', linestyle=':', linewidth=4)\n",
    "\n",
    "    plt.plot(fpr[\"macro\"], tpr[\"macro\"],\n",
    "            label='macro-average ROC curve (area = {0:0.2f})'\n",
    "               ''.format(roc_auc[\"macro\"]),\n",
    "            color='navy', linestyle=':', linewidth=4)\n",
    "    \n",
    "    colors = cycle(['aqua', 'darkorange'])\n",
    "    #classes_list1 = [\"DE\",\"NE\",\"DK\"]\n",
    "    classes_list1 = [\"Non-duplicate\",\"Duplicate\"]\n",
    "    for i, color,c in zip(range(n_classes), colors,classes_list1):\n",
    "        plt.plot(fpr[i], tpr[i], color=color, lw=lw,\n",
    "                label='{0} (AUC = {1:0.2f})'\n",
    "                ''.format(c, roc_auc[i]))\n",
    "\n",
    "    plt.plot([0, 1], [0, 1], 'k--', lw=lw)\n",
    "    plt.xlim([0.0, 1.0])\n",
    "    plt.ylim([0.0, 1.05])\n",
    "    plt.xlabel('False Positive Rate')\n",
    "    plt.ylabel('True Positive Rate')\n",
    "    plt.title('Receiver operating characteristic curve')\n",
    "    plt.legend(loc=\"lower right\")\n",
    "\n",
    "    # Plot of a ROC curve for a specific class\n"
   ]
  },
  {
   "cell_type": "code",
   "execution_count": null,
   "metadata": {
    "colab": {},
    "colab_type": "code",
    "id": "fHM1Y2vnGnpw"
   },
   "outputs": [],
   "source": [
    "plot_AUC_ROC(label_val,pred_val)"
   ]
  },
  {
   "cell_type": "code",
   "execution_count": null,
   "metadata": {
    "colab": {},
    "colab_type": "code",
    "id": "W1AcxG-eGrQK"
   },
   "outputs": [],
   "source": [
    "from sklearn.metrics import roc_auc_score, roc_curve, accuracy_score"
   ]
  },
  {
   "cell_type": "code",
   "execution_count": null,
   "metadata": {
    "colab": {},
    "colab_type": "code",
    "id": "9WZJN2TXGuRq"
   },
   "outputs": [],
   "source": [
    "auc_val = roc_auc_score(label_val,pred_val)\n",
    "accuracy_val = accuracy_score(label_val,pred_val>0.5)\n",
    "auc_train = roc_auc_score(label_train,pred_train)\n",
    "accuracy_train = accuracy_score(label_train,pred_train>0.5)\n",
    "\n",
    "print(\"auc_train=%g, auc_val=%g, accuracy_train=%g, accuracy_val=%g\" % (auc_train, auc_val, accuracy_train, accuracy_val))"
   ]
  }
 ],
 "metadata": {
  "accelerator": "GPU",
  "colab": {
   "collapsed_sections": [
    "D-szllAlw6Q1",
    "9jXOglamyASS",
    "EFQoKV-byI_U",
    "PF-K_3fvE_Vm",
    "0bhBtaJXFQ7I",
    "t5bHEV3-Fbng",
    "Ro-epZtpF1uh",
    "_hP3_RAfF9G0",
    "7Nj5NhMfGOYU",
    "drsZ-tlUGX-f"
   ],
   "name": "Duplicate_Question_2Bi-Lstm_Layer",
   "provenance": [],
   "toc_visible": true
  },
  "kernelspec": {
   "display_name": "Python 3 (ipykernel)",
   "language": "python",
   "name": "python3"
  },
  "language_info": {
   "codemirror_mode": {
    "name": "ipython",
    "version": 3
   },
   "file_extension": ".py",
   "mimetype": "text/x-python",
   "name": "python",
   "nbconvert_exporter": "python",
   "pygments_lexer": "ipython3",
   "version": "3.11.1"
  }
 },
 "nbformat": 4,
 "nbformat_minor": 1
}
